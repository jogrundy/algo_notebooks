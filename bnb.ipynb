{
 "cells": [
  {
   "cell_type": "code",
   "execution_count": 134,
   "id": "0a121443",
   "metadata": {},
   "outputs": [],
   "source": [
    "import numpy as np\n",
    "import queue"
   ]
  },
  {
   "cell_type": "markdown",
   "id": "7025b2da",
   "metadata": {},
   "source": [
    "# Backtracking search for hamiltonian cycle"
   ]
  },
  {
   "cell_type": "markdown",
   "id": "e14aca8b",
   "metadata": {},
   "source": [
    "representation [S, 0, 0, 0, 0, 0, S]\n",
    "search tree, decide on movement each step\n",
    "data structure? "
   ]
  },
  {
   "cell_type": "code",
   "execution_count": 135,
   "id": "e4f29618",
   "metadata": {},
   "outputs": [],
   "source": [
    "graph = {'a':['b', 'd'], \n",
    "         'b':['a', 'c', 'f'], \n",
    "         'c':['a', 'b', 'd', 'e'], \n",
    "         'd':['a', 'c', 'e'], \n",
    "         'e':['c', 'd', 'f'], \n",
    "         'f':['b', 'e']}"
   ]
  },
  {
   "cell_type": "code",
   "execution_count": 146,
   "id": "67b9841b",
   "metadata": {},
   "outputs": [
    {
     "name": "stdout",
     "output_type": "stream",
     "text": [
      "['a', 0, 0, 0, 0, 0, 0] 0\n",
      "['a', 'd', 0, 0, 0, 0, 0] 1\n",
      "['a', 'd', 'e', 0, 0, 0, 0] 2\n",
      "['a', 'd', 'e', 'f', 0, 0, 0] 3\n",
      "['a', 'd', 'e', 'f', 'b', 0, 0] 4\n",
      "['a', 'd', 'e', 'f', 'b', 'c', 0] 5\n",
      "solution found:  ['a', 'd', 'e', 'f', 'b', 'c', 'a']\n",
      "['a', 'd', 'e', 'c', 0, 0, 0] 3\n",
      "['a', 'd', 'e', 'c', 'b', 0, 0] 4\n",
      "['a', 'd', 'e', 'c', 'b', 'f', 0] 5\n",
      "['a', 'd', 'c', 0, 0, 0, 0] 2\n",
      "['a', 'd', 'c', 'e', 0, 0, 0] 3\n",
      "['a', 'd', 'c', 'e', 'f', 0, 0] 4\n",
      "['a', 'd', 'c', 'e', 'f', 'b', 0] 5\n",
      "solution found:  ['a', 'd', 'c', 'e', 'f', 'b', 'a']\n",
      "['a', 'd', 'c', 'b', 0, 0, 0] 3\n",
      "['a', 'd', 'c', 'b', 'f', 0, 0] 4\n",
      "['a', 'd', 'c', 'b', 'f', 'e', 0] 5\n",
      "['a', 'b', 0, 0, 0, 0, 0] 1\n",
      "['a', 'b', 'f', 0, 0, 0, 0] 2\n",
      "['a', 'b', 'f', 'e', 0, 0, 0] 3\n",
      "['a', 'b', 'f', 'e', 'd', 0, 0] 4\n",
      "['a', 'b', 'f', 'e', 'd', 'c', 0] 5\n",
      "solution found:  ['a', 'b', 'f', 'e', 'd', 'c', 'a']\n",
      "['a', 'b', 'f', 'e', 'c', 0, 0] 4\n",
      "['a', 'b', 'f', 'e', 'c', 'd', 0] 5\n",
      "solution found:  ['a', 'b', 'f', 'e', 'c', 'd', 'a']\n",
      "['a', 'b', 'c', 0, 0, 0, 0] 2\n",
      "['a', 'b', 'c', 'e', 0, 0, 0] 3\n",
      "['a', 'b', 'c', 'e', 'f', 0, 0] 4\n",
      "['a', 'b', 'c', 'e', 'd', 0, 0] 4\n",
      "['a', 'b', 'c', 'd', 0, 0, 0] 3\n",
      "['a', 'b', 'c', 'd', 'e', 0, 0] 4\n",
      "['a', 'b', 'c', 'd', 'e', 'f', 0] 5\n"
     ]
    }
   ],
   "source": [
    "q = queue.LifoQueue()\n",
    "ps1 = (['a',0,0,0,0,0,0], 0)\n",
    "q.put(ps1)\n",
    "while not q.empty():\n",
    "#     print(q.get())\n",
    "    (ps, l) = q.get()\n",
    "    print(ps, l)\n",
    "    at_node = ps[l]\n",
    "    if l == len(ps)-2:# can it go back to the start?\n",
    "        if 'a' in graph[at_node]:\n",
    "            ps[-1]='a'\n",
    "            print('solution found: ',ps)\n",
    "        \n",
    "    dest_tup = graph[at_node]\n",
    "    for dest in dest_tup:\n",
    "        if dest not in ps:\n",
    "            next_sol = ps.copy() # copy without reference\n",
    "            next_sol[l+1] = dest\n",
    "            q.put((next_sol, l+1))\n"
   ]
  },
  {
   "cell_type": "markdown",
   "id": "c610a363",
   "metadata": {},
   "source": [
    "# Branch and Bound search\n",
    "\n",
    "Need to chose upper bound.. if total space left times highest ratio of value to weight left out means less value than already got, then no point continuing\n",
    "could also try number of spaces left times by \n",
    "\n",
    "state representation? - [0,1,0,1,0,1,0,1,0,0] - 1 means item is included"
   ]
  },
  {
   "cell_type": "code",
   "execution_count": 137,
   "id": "00fb9ca3",
   "metadata": {},
   "outputs": [],
   "source": [
    "def get_wv(knapsack, vals, weights):\n",
    "    tw = knapsack.dot(weights)\n",
    "    tv = knapsack.dot(vals)\n",
    "    return tw, tv\n",
    "\n",
    "def calc_ratio_ub(knapsack, vals, weights, b, ratios, max_weight):\n",
    "    tw, tv = get_wv(knapsack, vals, weights)\n",
    "    left = np.zeros(10)\n",
    "    left[b+1:] = 1- knapsack[b+1:]\n",
    "\n",
    "    twleft = max_weight - tw # finds total weight left\n",
    "    rleft = np.multiply(ratios, left) # finds ratios left\n",
    "    maxr = np.argmax(rleft) # gives index of largest ratio left\n",
    "    best_poss_val = ratios[maxr]*twleft+ tv  # gives best possible weight from this partial solution\n",
    "    return best_poss_val\n",
    "\n",
    "def calc_items_ub(knapsack, vals, weights, b, ratios, max_weight):\n",
    "    tw, tv = get_wv(knapsack, vals, weights)\n",
    "    left = np.zeros(10)\n",
    "    n_items_left = 10-b-1\n",
    "    left[b+1:] = 1- knapsack[b+1:]\n",
    "\n",
    "    items_left = (b+1)-len(ratios)\n",
    "    rleft = np.multiply(vals, left) # finds values left\n",
    "    maxr = np.argmax(rleft) # gives index of largest value left\n",
    "    best_poss_val = vals[maxr]*(n_items_left)+ tv  # gives best possible value from this partial solution\n",
    "    return best_poss_val\n"
   ]
  },
  {
   "cell_type": "code",
   "execution_count": 138,
   "id": "69e2ced9",
   "metadata": {},
   "outputs": [],
   "source": [
    "\n",
    "\n",
    "def knapsack(vals, weights, max_weight, calc_ub_fn):\n",
    "    ratios = np.divide(vals, weights)\n",
    "    q = queue.LifoQueue()\n",
    "    best_val = 0\n",
    "\n",
    "    first = np.array([0,0,0,0,0,0,0,0,0,0])\n",
    "    second = np.array([1,0,0,0,0,0,0,0,0,0])\n",
    "    max_b = len(first)\n",
    "    q.put((first, 0))\n",
    "    q.put((second, 0))\n",
    "    evals = 0\n",
    "    while not q.empty():\n",
    "        evals+=1\n",
    "        ps, b = q.get()\n",
    "        tw, tv = get_wv(ps, vals, weights)\n",
    "#         print(ps, 'level', b, 'value', tv, 'weight', tw, 'upper bound', ub, max_b-1)\n",
    "\n",
    "        if tw>max_weight:#overfull. stop here. use next from queue. \n",
    "#             print('too full')\n",
    "            continue\n",
    "\n",
    "        if b==max_b-1:#is a full and valid solution.\n",
    "            if tv > best_val:\n",
    "                print('best val found', tv, ps)\n",
    "                best_val = tv\n",
    "                best_sol=ps\n",
    "            continue\n",
    "\n",
    "        ub = calc_ub_fn(ps, vals, weights, b, ratios, max_weight)\n",
    "        if ub < best_val: # branch and bound\n",
    "#             print('upper bound too low')\n",
    "            # if solution cannot possibly give a good answer then look at the next in the queue\n",
    "            continue\n",
    "\n",
    "        # add next ones to the queue\n",
    "        nx = np.copy(ps) #copy without ref\n",
    "        q.put((nx, b+1)) # the same but on the next level\n",
    "        ny = np.copy(ps)\n",
    "        ny[b+1]=1\n",
    "        q.put((ny, b+1))\n",
    "\n",
    "    return best_sol, best_val, evals\n"
   ]
  },
  {
   "cell_type": "code",
   "execution_count": 139,
   "id": "rural-nickname",
   "metadata": {},
   "outputs": [
    {
     "name": "stdout",
     "output_type": "stream",
     "text": [
      "best val found 199 [1 1 1 1 0 0 1 0 0 0]\n",
      "best val found 206 [1 1 1 1 0 0 0 0 0 1]\n",
      "best val found 256 [1 1 1 0 0 1 1 1 0 1]\n",
      "best val found 266 [1 1 1 0 0 1 1 0 1 1]\n",
      "best val found 296 [1 1 0 1 0 1 1 0 1 1]\n",
      "best val found 321 [1 1 0 0 1 0 1 0 0 1]\n",
      "best val found 400 [1 0 0 0 1 1 1 0 0 0]\n",
      "best solution [1 0 0 0 1 1 1 0 0 0] 400 evals =  166\n",
      "best val found 199 [1 1 1 1 0 0 1 0 0 0]\n",
      "best val found 206 [1 1 1 1 0 0 0 0 0 1]\n",
      "best val found 256 [1 1 1 0 0 1 1 1 0 1]\n",
      "best val found 266 [1 1 1 0 0 1 1 0 1 1]\n",
      "best val found 296 [1 1 0 1 0 1 1 0 1 1]\n",
      "best val found 321 [1 1 0 0 1 0 1 0 0 1]\n",
      "best val found 400 [1 0 0 0 1 1 1 0 0 0]\n",
      "best solution [1 0 0 0 1 1 1 0 0 0] 400 evals =  188\n"
     ]
    }
   ],
   "source": [
    "vals = np.array([100,4,30,60,200,95,5,10,20,12])\n",
    "weights = np.array([24, 14, 39, 60, 98, 22, 5, 32, 16, 9])\n",
    "\n",
    "best_sol, best_val, evals = knapsack(vals, weights, max_weight, calc_ratio_ub)\n",
    "\n",
    "print('best solution', best_sol, best_val, 'evals = ', evals)\n",
    "\n",
    "best_sol, best_val, evals = knapsack(vals, weights, max_weight, calc_items_ub)\n",
    "\n",
    "print('best solution', best_sol, best_val, 'evals = ', evals)  "
   ]
  },
  {
   "cell_type": "markdown",
   "id": "4e8bad17",
   "metadata": {},
   "source": [
    "# Possible improvements: sort by ratio?"
   ]
  },
  {
   "cell_type": "code",
   "execution_count": 140,
   "id": "7e985b56",
   "metadata": {},
   "outputs": [],
   "source": [
    "vals = np.array([100,4,30,60,200,95,5,10,20,12])\n",
    "weights = np.array([24, 14, 39, 60, 98, 22, 5, 32, 16, 9])\n",
    "ratios = np.divide(vals, weights)\n",
    "vw = list(zip(vals, weights, ratios))\n",
    "\n",
    "vw.sort(key=lambda y: y[2], reverse=True)\n",
    "vals, weights, ratios = zip(*vw)"
   ]
  },
  {
   "cell_type": "code",
   "execution_count": 141,
   "id": "c9794d5c",
   "metadata": {},
   "outputs": [
    {
     "name": "stdout",
     "output_type": "stream",
     "text": [
      "best val found 400 [1 1 1 0 0 0 1 0 0 0]\n",
      "best solution [1 1 1 0 0 0 1 0 0 0] 400 evals =  22\n",
      "best val found 400 [1 1 1 0 0 0 1 0 0 0]\n",
      "best solution [1 1 1 0 0 0 1 0 0 0] 400 evals =  154\n"
     ]
    }
   ],
   "source": [
    "best_sol, best_val, evals = knapsack(vals, weights, max_weight, calc_ratio_ub)\n",
    "\n",
    "print('best solution', best_sol, best_val, 'evals = ', evals)\n",
    "\n",
    "best_sol, best_val, evals = knapsack(vals, weights, max_weight, calc_items_ub)\n",
    "\n",
    "print('best solution', best_sol, best_val, 'evals = ', evals)  "
   ]
  },
  {
   "cell_type": "markdown",
   "id": "d9073e99",
   "metadata": {},
   "source": [
    "## Sort by value?"
   ]
  },
  {
   "cell_type": "code",
   "execution_count": 142,
   "id": "846a62f7",
   "metadata": {},
   "outputs": [],
   "source": [
    "vals = np.array([100,4,30,60,200,95,5,10,20,12])\n",
    "weights = np.array([24, 14, 39, 60, 98, 22, 5, 32, 16, 9])\n",
    "ratios = np.divide(vals, weights)\n",
    "vw = list(zip(vals, weights, ratios))\n",
    "\n",
    "vw.sort(key=lambda y: y[0], reverse=True)\n",
    "vals, weights, ratios = zip(*vw)"
   ]
  },
  {
   "cell_type": "code",
   "execution_count": 143,
   "id": "45b814bb",
   "metadata": {},
   "outputs": [
    {
     "name": "stdout",
     "output_type": "stream",
     "text": [
      "best val found 400 [1 1 1 0 0 0 0 0 1 0]\n",
      "best solution [1 1 1 0 0 0 0 0 1 0] 400 evals =  28\n",
      "best val found 400 [1 1 1 0 0 0 0 0 1 0]\n",
      "best solution [1 1 1 0 0 0 0 0 1 0] 400 evals =  50\n"
     ]
    }
   ],
   "source": [
    "best_sol, best_val, evals = knapsack(vals, weights, max_weight, calc_ratio_ub)\n",
    "\n",
    "print('best solution', best_sol, best_val, 'evals = ', evals)\n",
    "\n",
    "best_sol, best_val, evals = knapsack(vals, weights, max_weight, calc_items_ub)\n",
    "\n",
    "print('best solution', best_sol, best_val, 'evals = ', evals) "
   ]
  },
  {
   "cell_type": "markdown",
   "id": "a3257897",
   "metadata": {},
   "source": [
    "# Sort by inverse weight?"
   ]
  },
  {
   "cell_type": "code",
   "execution_count": 144,
   "id": "38ab37ad",
   "metadata": {},
   "outputs": [],
   "source": [
    "vals = np.array([100,4,30,60,200,95,5,10,20,12])\n",
    "weights = np.array([24, 14, 39, 60, 98, 22, 5, 32, 16, 9])\n",
    "ratios = np.divide(vals, weights)\n",
    "vw = list(zip(vals, weights, ratios))\n",
    "\n",
    "vw.sort(key=lambda y: y[1])\n",
    "vals, weights, ratios = zip(*vw)"
   ]
  },
  {
   "cell_type": "code",
   "execution_count": 145,
   "id": "f3b01724",
   "metadata": {},
   "outputs": [
    {
     "name": "stdout",
     "output_type": "stream",
     "text": [
      "best val found 246 [1 1 1 1 1 1 1 0 0 0]\n",
      "best val found 266 [1 1 1 1 1 1 0 1 0 0]\n",
      "best val found 296 [1 1 1 1 1 1 0 0 1 0]\n",
      "best val found 316 [1 1 1 0 1 0 0 0 0 1]\n",
      "best val found 321 [1 1 1 0 0 1 0 0 0 1]\n",
      "best val found 332 [1 1 0 1 1 0 0 0 0 1]\n",
      "best val found 400 [1 0 0 0 1 1 0 0 0 1]\n",
      "best solution [1 0 0 0 1 1 0 0 0 1] 400 evals =  354\n",
      "best val found 246 [1 1 1 1 1 1 1 0 0 0]\n",
      "best val found 266 [1 1 1 1 1 1 0 1 0 0]\n",
      "best val found 296 [1 1 1 1 1 1 0 0 1 0]\n",
      "best val found 316 [1 1 1 0 1 0 0 0 0 1]\n",
      "best val found 321 [1 1 1 0 0 1 0 0 0 1]\n",
      "best val found 332 [1 1 0 1 1 0 0 0 0 1]\n",
      "best val found 400 [1 0 0 0 1 1 0 0 0 1]\n",
      "best solution [1 0 0 0 1 1 0 0 0 1] 400 evals =  1348\n"
     ]
    }
   ],
   "source": [
    "best_sol, best_val, evals = knapsack(vals, weights, max_weight, calc_ratio_ub)\n",
    "print('best solution', best_sol, best_val, 'evals = ', evals)\n",
    "\n",
    "best_sol, best_val, evals = knapsack(vals, weights, max_weight, calc_items_ub)\n",
    "print('best solution', best_sol, best_val, 'evals = ', evals) "
   ]
  },
  {
   "cell_type": "code",
   "execution_count": null,
   "id": "85ace964",
   "metadata": {},
   "outputs": [],
   "source": []
  },
  {
   "cell_type": "code",
   "execution_count": null,
   "id": "88e2fbfc",
   "metadata": {},
   "outputs": [],
   "source": []
  },
  {
   "cell_type": "code",
   "execution_count": null,
   "id": "0101a16a",
   "metadata": {},
   "outputs": [],
   "source": []
  }
 ],
 "metadata": {
  "kernelspec": {
   "display_name": "Python 3 (ipykernel)",
   "language": "python",
   "name": "python3"
  },
  "language_info": {
   "codemirror_mode": {
    "name": "ipython",
    "version": 3
   },
   "file_extension": ".py",
   "mimetype": "text/x-python",
   "name": "python",
   "nbconvert_exporter": "python",
   "pygments_lexer": "ipython3",
   "version": "3.8.12"
  }
 },
 "nbformat": 4,
 "nbformat_minor": 5
}
